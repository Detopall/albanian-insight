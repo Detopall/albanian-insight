{
 "cells": [
  {
   "cell_type": "markdown",
   "metadata": {},
   "source": [
    "# Sentiment Prediction using Albanian Posts\n",
    "\n",
    "This notebook will create a model to predict the sentiment of Albanian posts. The dataset used is taken from this paper: [Human-annotated dataset for social media sentiment analysis for Albanian language](https://www.ncbi.nlm.nih.gov/pmc/articles/PMC9272335/)\n",
    "\n",
    "`Kadriu F, Murtezaj D, Gashi F, Ahmedi L, Kurti A, Kastrati Z. Human-annotated dataset for social media sentiment analysis for Albanian language. Data Brief. 2022 Jul 2;43:108436. doi: 10.1016/j.dib.2022.108436. PMID: 35832321; PMCID: PMC9272335.`\n",
    "\n",
    "## Dataset\n",
    "\n",
    "The contents of the dataset are as follows:\n",
    "* Id\n",
    "* Comment\n",
    "* Like\n",
    "* Comment's timestamp\n",
    "* Post's timestamp\n",
    "* #Deaths\n",
    "* #Infected\n",
    "* #Healed\n",
    "* Annot 1\n",
    "* Annot 2\n",
    "* Annot 3\n",
    "* Final annotation\n",
    "\n",
    "The \"Final annotation\" column is the sentiment label of the comment. This column together with the \"Comment\" column will be used to train the model.\n",
    "\n",
    "The dataset contains 10k comments with the following mapping of the sentiment labels:\n",
    "\n",
    "0 - Neutral\n",
    "1 - Positive\n",
    "2 - Negative\n",
    "\n",
    "This is an example taken from the paper:\n",
    "\n",
    "| Comment | Sentiment |\n",
    "| --- | --- |\n",
    "| Do te thot Pejaa edhe sonte spaska asnje rast (It means that also tonight Peja does not have any new case) | Neutral (0) |\n",
    "| Bravo ekipet e IKShP per punen e shkelqyeshme dhe perkushtimin! (Well done the NIPHK teams for the great job and dedication!) | Positive (1) |\n",
    "| Keni kalu tash ne monotoni, te pa arsyshem jeni tash. (You have now turned into monotony, you are now unreasonable.) | Negative (2) |\n",
    "\n",
    "## Approach\n",
    "\n",
    "The approach taken to create the model is as follows:\n",
    "\n",
    "1. Load the dataset \n",
    "2. Preprocess the data\n",
    "3. Tokenize the data\n",
    "4. Create the model\n",
    "5. Train the model\n",
    "6. Evaluate the model\n",
    "7. Predict the sentiment of a new comment\n",
    "8. Save the model\n"
   ]
  },
  {
   "cell_type": "markdown",
   "metadata": {},
   "source": [
    "### Load the dataset"
   ]
  },
  {
   "cell_type": "code",
   "execution_count": 2,
   "metadata": {},
   "outputs": [
    {
     "data": {
      "text/html": [
       "<div>\n",
       "<style scoped>\n",
       "    .dataframe tbody tr th:only-of-type {\n",
       "        vertical-align: middle;\n",
       "    }\n",
       "\n",
       "    .dataframe tbody tr th {\n",
       "        vertical-align: top;\n",
       "    }\n",
       "\n",
       "    .dataframe thead th {\n",
       "        text-align: right;\n",
       "    }\n",
       "</style>\n",
       "<table border=\"1\" class=\"dataframe\">\n",
       "  <thead>\n",
       "    <tr style=\"text-align: right;\">\n",
       "      <th></th>\n",
       "      <th>Id</th>\n",
       "      <th>Comment</th>\n",
       "      <th>Like</th>\n",
       "      <th>Comment's timestamp</th>\n",
       "      <th>Post's timestamp</th>\n",
       "      <th>#Deaths</th>\n",
       "      <th>#Infected</th>\n",
       "      <th>#Healed</th>\n",
       "      <th>Annot 1</th>\n",
       "      <th>Annot 2</th>\n",
       "      <th>Annot 3</th>\n",
       "      <th>Final annotation</th>\n",
       "    </tr>\n",
       "  </thead>\n",
       "  <tbody>\n",
       "    <tr>\n",
       "      <th>0</th>\n",
       "      <td>1</td>\n",
       "      <td>Mbyllni kufijte sot. Sitiata ka me u ba shume ...</td>\n",
       "      <td>0</td>\n",
       "      <td>Friday, March 13, 2020 1:05am GMT</td>\n",
       "      <td>Thursday, March 12, 2020 5:20pm GMT</td>\n",
       "      <td>0</td>\n",
       "      <td>0</td>\n",
       "      <td>0</td>\n",
       "      <td>2</td>\n",
       "      <td>2</td>\n",
       "      <td>0</td>\n",
       "      <td>2</td>\n",
       "    </tr>\n",
       "    <tr>\n",
       "      <th>1</th>\n",
       "      <td>2</td>\n",
       "      <td>Mbyllni kufit ashtu mund te jemi te sigurte, p...</td>\n",
       "      <td>0</td>\n",
       "      <td>Thursday, March 12, 2020 8:06pm GMT</td>\n",
       "      <td>Thursday, March 12, 2020 5:20pm GMT</td>\n",
       "      <td>0</td>\n",
       "      <td>0</td>\n",
       "      <td>0</td>\n",
       "      <td>0</td>\n",
       "      <td>2</td>\n",
       "      <td>0</td>\n",
       "      <td>0</td>\n",
       "    </tr>\n",
       "    <tr>\n",
       "      <th>2</th>\n",
       "      <td>3</td>\n",
       "      <td>Pse nuk po  i  mbyllni  kufijte,  sonte  ne  q...</td>\n",
       "      <td>1</td>\n",
       "      <td>Thursday, March 12, 2020 7:41pm GMT</td>\n",
       "      <td>Thursday, March 12, 2020 5:20pm GMT</td>\n",
       "      <td>0</td>\n",
       "      <td>0</td>\n",
       "      <td>0</td>\n",
       "      <td>0</td>\n",
       "      <td>0</td>\n",
       "      <td>0</td>\n",
       "      <td>0</td>\n",
       "    </tr>\n",
       "    <tr>\n",
       "      <th>3</th>\n",
       "      <td>4</td>\n",
       "      <td>Mos  harroni  qe  kufinjte  tane  jane  te  ha...</td>\n",
       "      <td>1</td>\n",
       "      <td>Thursday, March 12, 2020 7:39pm GMT</td>\n",
       "      <td>Thursday, March 12, 2020 5:20pm GMT</td>\n",
       "      <td>0</td>\n",
       "      <td>0</td>\n",
       "      <td>0</td>\n",
       "      <td>0</td>\n",
       "      <td>0</td>\n",
       "      <td>0</td>\n",
       "      <td>0</td>\n",
       "    </tr>\n",
       "    <tr>\n",
       "      <th>4</th>\n",
       "      <td>5</td>\n",
       "      <td>Flm per njoftimet e vazhdueshme. A i kontrolli...</td>\n",
       "      <td>0</td>\n",
       "      <td>Thursday, March 12, 2020 6:14pm GMT</td>\n",
       "      <td>Thursday, March 12, 2020 5:20pm GMT</td>\n",
       "      <td>0</td>\n",
       "      <td>0</td>\n",
       "      <td>0</td>\n",
       "      <td>1</td>\n",
       "      <td>1</td>\n",
       "      <td>1</td>\n",
       "      <td>1</td>\n",
       "    </tr>\n",
       "  </tbody>\n",
       "</table>\n",
       "</div>"
      ],
      "text/plain": [
       "   Id                                            Comment  Like  \\\n",
       "0   1  Mbyllni kufijte sot. Sitiata ka me u ba shume ...     0   \n",
       "1   2  Mbyllni kufit ashtu mund te jemi te sigurte, p...     0   \n",
       "2   3  Pse nuk po  i  mbyllni  kufijte,  sonte  ne  q...     1   \n",
       "3   4  Mos  harroni  qe  kufinjte  tane  jane  te  ha...     1   \n",
       "4   5  Flm per njoftimet e vazhdueshme. A i kontrolli...     0   \n",
       "\n",
       "                   Comment's timestamp                     Post's timestamp  \\\n",
       "0    Friday, March 13, 2020 1:05am GMT  Thursday, March 12, 2020 5:20pm GMT   \n",
       "1  Thursday, March 12, 2020 8:06pm GMT  Thursday, March 12, 2020 5:20pm GMT   \n",
       "2  Thursday, March 12, 2020 7:41pm GMT  Thursday, March 12, 2020 5:20pm GMT   \n",
       "3  Thursday, March 12, 2020 7:39pm GMT  Thursday, March 12, 2020 5:20pm GMT   \n",
       "4  Thursday, March 12, 2020 6:14pm GMT  Thursday, March 12, 2020 5:20pm GMT   \n",
       "\n",
       "   #Deaths  #Infected  #Healed  Annot 1  Annot 2  Annot 3  Final annotation  \n",
       "0        0          0        0        2        2        0                 2  \n",
       "1        0          0        0        0        2        0                 0  \n",
       "2        0          0        0        0        0        0                 0  \n",
       "3        0          0        0        0        0        0                 0  \n",
       "4        0          0        0        1        1        1                 1  "
      ]
     },
     "execution_count": 2,
     "metadata": {},
     "output_type": "execute_result"
    }
   ],
   "source": [
    "import pandas as pd\n",
    "\n",
    "# Read the data from the CSV file\n",
    "df = pd.read_csv('./data/alb-sentiment-dataset.csv', sep=';')\n",
    "\n",
    "df.head()"
   ]
  },
  {
   "cell_type": "markdown",
   "metadata": {},
   "source": [
    "### Process the data"
   ]
  },
  {
   "cell_type": "code",
   "execution_count": 3,
   "metadata": {},
   "outputs": [
    {
     "name": "stdout",
     "output_type": "stream",
     "text": [
      "(10132, 2)\n"
     ]
    },
    {
     "data": {
      "text/html": [
       "<div>\n",
       "<style scoped>\n",
       "    .dataframe tbody tr th:only-of-type {\n",
       "        vertical-align: middle;\n",
       "    }\n",
       "\n",
       "    .dataframe tbody tr th {\n",
       "        vertical-align: top;\n",
       "    }\n",
       "\n",
       "    .dataframe thead th {\n",
       "        text-align: right;\n",
       "    }\n",
       "</style>\n",
       "<table border=\"1\" class=\"dataframe\">\n",
       "  <thead>\n",
       "    <tr style=\"text-align: right;\">\n",
       "      <th></th>\n",
       "      <th>text</th>\n",
       "      <th>sentiment</th>\n",
       "    </tr>\n",
       "  </thead>\n",
       "  <tbody>\n",
       "    <tr>\n",
       "      <th>0</th>\n",
       "      <td>Mbyllni kufijte sot. Sitiata ka me u ba shume ...</td>\n",
       "      <td>2</td>\n",
       "    </tr>\n",
       "    <tr>\n",
       "      <th>1</th>\n",
       "      <td>Mbyllni kufit ashtu mund te jemi te sigurte, p...</td>\n",
       "      <td>0</td>\n",
       "    </tr>\n",
       "    <tr>\n",
       "      <th>2</th>\n",
       "      <td>Pse nuk po  i  mbyllni  kufijte,  sonte  ne  q...</td>\n",
       "      <td>0</td>\n",
       "    </tr>\n",
       "    <tr>\n",
       "      <th>3</th>\n",
       "      <td>Mos  harroni  qe  kufinjte  tane  jane  te  ha...</td>\n",
       "      <td>0</td>\n",
       "    </tr>\n",
       "    <tr>\n",
       "      <th>4</th>\n",
       "      <td>Flm per njoftimet e vazhdueshme. A i kontrolli...</td>\n",
       "      <td>1</td>\n",
       "    </tr>\n",
       "  </tbody>\n",
       "</table>\n",
       "</div>"
      ],
      "text/plain": [
       "                                                text  sentiment\n",
       "0  Mbyllni kufijte sot. Sitiata ka me u ba shume ...          2\n",
       "1  Mbyllni kufit ashtu mund te jemi te sigurte, p...          0\n",
       "2  Pse nuk po  i  mbyllni  kufijte,  sonte  ne  q...          0\n",
       "3  Mos  harroni  qe  kufinjte  tane  jane  te  ha...          0\n",
       "4  Flm per njoftimet e vazhdueshme. A i kontrolli...          1"
      ]
     },
     "execution_count": 3,
     "metadata": {},
     "output_type": "execute_result"
    }
   ],
   "source": [
    "# Keep only the columns we need\n",
    "if 'Comment' in df.columns and 'Final annotation' in df.columns:\n",
    "\tdf = df[['Comment', 'Final annotation']]\n",
    "\n",
    "\t# Change the column names to 'text' and 'sentiment'\n",
    "\tdf.columns = ['text', 'sentiment']\n",
    "\n",
    "print(df.shape)\n",
    "df.head()"
   ]
  },
  {
   "cell_type": "code",
   "execution_count": 4,
   "metadata": {},
   "outputs": [
    {
     "data": {
      "text/plain": [
       "text         0\n",
       "sentiment    0\n",
       "dtype: int64"
      ]
     },
     "execution_count": 4,
     "metadata": {},
     "output_type": "execute_result"
    }
   ],
   "source": [
    "# Check for missing values\n",
    "\n",
    "df.isnull().sum()"
   ]
  },
  {
   "cell_type": "code",
   "execution_count": 5,
   "metadata": {},
   "outputs": [
    {
     "name": "stdout",
     "output_type": "stream",
     "text": [
      "<class 'pandas.core.frame.DataFrame'>\n",
      "RangeIndex: 10132 entries, 0 to 10131\n",
      "Data columns (total 2 columns):\n",
      " #   Column     Non-Null Count  Dtype \n",
      "---  ------     --------------  ----- \n",
      " 0   text       10132 non-null  object\n",
      " 1   sentiment  10132 non-null  int64 \n",
      "dtypes: int64(1), object(1)\n",
      "memory usage: 158.4+ KB\n"
     ]
    }
   ],
   "source": [
    "# Check data types\n",
    "\n",
    "df.info()"
   ]
  },
  {
   "cell_type": "code",
   "execution_count": 6,
   "metadata": {},
   "outputs": [
    {
     "data": {
      "text/plain": [
       "<Axes: xlabel='sentiment'>"
      ]
     },
     "execution_count": 6,
     "metadata": {},
     "output_type": "execute_result"
    },
    {
     "data": {
      "image/png": "[encoded data removed]",
      "text/plain": [
       "<Figure size 640x480 with 1 Axes>"
      ]
     },
     "metadata": {},
     "output_type": "display_data"
    }
   ],
   "source": [
    "# Show frequency of each sentiment\n",
    "\n",
    "df['sentiment'].value_counts().plot(kind='bar')"
   ]
  },
  {
   "cell_type": "markdown",
   "metadata": {},
   "source": [
    "## Data Augmentation"
   ]
  },
  {
   "cell_type": "code",
   "execution_count": 7,
   "metadata": {},
   "outputs": [
    {
     "name": "stderr",
     "output_type": "stream",
     "text": [
      "[nltk_data] Downloading package wordnet to\n",
      "[nltk_data]     C:\\Users\\denis\\AppData\\Roaming\\nltk_data...\n",
      "[nltk_data]   Package wordnet is already up-to-date!\n",
      "[nltk_data] Downloading package omw-1.4 to\n",
      "[nltk_data]     C:\\Users\\denis\\AppData\\Roaming\\nltk_data...\n",
      "[nltk_data]   Package omw-1.4 is already up-to-date!\n"
     ]
    }
   ],
   "source": [
    "import random\n",
    "import nltk\n",
    "from nltk.corpus import wordnet\n",
    "\n",
    "nltk.download('wordnet')\n",
    "nltk.download('omw-1.4')\n",
    "\n",
    "def synonym_replacement(sentence, n):\n",
    "    words = sentence.split()\n",
    "    new_words = words.copy()\n",
    "    random_word_list = list(set([word for word in words if wordnet.synsets(word)]))\n",
    "    random.shuffle(random_word_list)\n",
    "    num_replaced = 0\n",
    "    for random_word in random_word_list:\n",
    "        synonyms = get_synonyms(random_word)\n",
    "        if len(synonyms) >= 1:\n",
    "            synonym = random.choice(synonyms)\n",
    "            new_words = [synonym if word == random_word else word for word in new_words]\n",
    "            num_replaced += 1\n",
    "        if num_replaced >= n:\n",
    "            break\n",
    "    sentence = ' '.join(new_words)\n",
    "    return sentence\n",
    "\n",
    "def get_synonyms(word):\n",
    "    synonyms = set()\n",
    "    for syn in wordnet.synsets(word):\n",
    "        for lemma in syn.lemmas():\n",
    "            synonyms.add(lemma.name())\n",
    "    if word in synonyms:\n",
    "        synonyms.remove(word)\n",
    "    return list(synonyms)\n",
    "\n",
    "def random_insertion(sentence, n):\n",
    "    words = sentence.split()\n",
    "    for _ in range(n):\n",
    "        add_word(words)\n",
    "    sentence = ' '.join(words)\n",
    "    return sentence\n",
    "\n",
    "def add_word(words):\n",
    "    synonyms = []\n",
    "    counter = 0\n",
    "    while len(synonyms) < 1:\n",
    "        random_word = words[random.randint(0, len(words)-1)]\n",
    "        synonyms = get_synonyms(random_word)\n",
    "        counter += 1\n",
    "        if counter >= 10:\n",
    "            return\n",
    "    random_synonym = synonyms[0]\n",
    "    random_idx = random.randint(0, len(words)-1)\n",
    "    words.insert(random_idx, random_synonym)\n",
    "\n",
    "def random_swap(sentence, n):\n",
    "    words = sentence.split()\n",
    "    for _ in range(n):\n",
    "        words = swap_word(words)\n",
    "    sentence = ' '.join(words)\n",
    "    return sentence\n",
    "\n",
    "def swap_word(words):\n",
    "    idx1 = random.randint(0, len(words)-1)\n",
    "    idx2 = idx1\n",
    "    counter = 0\n",
    "    while idx2 == idx1:\n",
    "        idx2 = random.randint(0, len(words)-1)\n",
    "        counter += 1\n",
    "        if counter > 3:\n",
    "            return words\n",
    "    words[idx1], words[idx2] = words[idx2], words[idx1]\n",
    "    return words\n",
    "\n",
    "def random_deletion(sentence, p):\n",
    "    words = sentence.split()\n",
    "    if len(words) == 1:\n",
    "        return sentence\n",
    "    new_words = []\n",
    "    for word in words:\n",
    "        r = random.uniform(0, 1)\n",
    "        if r > p:\n",
    "            new_words.append(word)\n",
    "    if len(new_words) == 0:\n",
    "        rand_int = random.randint(0, len(words)-1)\n",
    "        return words[rand_int]\n",
    "    sentence = ' '.join(new_words)\n",
    "    return sentence\n",
    "\n",
    "def augment_text(sentence):\n",
    "    augmentations = [\n",
    "        synonym_replacement(sentence, n=2),\n",
    "        random_insertion(sentence, n=2),\n",
    "        random_swap(sentence, n=2),\n",
    "        random_deletion(sentence, p=0.3),\n",
    "    ]\n",
    "    return random.choice(augmentations)"
   ]
  },
  {
   "cell_type": "code",
   "execution_count": 8,
   "metadata": {},
   "outputs": [],
   "source": [
    "import random\n",
    "\n",
    "# Data augmentation on the dataset\n",
    "df_neutral = df[df['sentiment'] == 0]\n",
    "df_positive = df[df['sentiment'] == 1]\n",
    "df_negative = df[df['sentiment'] == 2]\n",
    "\n",
    "n_augmented_samples = 3000\n",
    "\n",
    "# Generate augmented samples for the negative class\n",
    "augmented_texts_negative = [augment_text(text) for text in random.choices(df_negative['text'].tolist(), k=n_augmented_samples)]\n",
    "augmented_negative_df = pd.DataFrame({'text': augmented_texts_negative, 'sentiment': 1})\n",
    "\n",
    "# Generate augmented samples for the positive class\n",
    "augmented_texts_positive = [augment_text(text) for text in random.choices(df_positive['text'].tolist(), k=n_augmented_samples)]\n",
    "augmented_positive_df = pd.DataFrame({'text': augmented_texts_positive, 'sentiment': 2})\n",
    "\n",
    "# Append the augmented dataframes to the original dataframe\n",
    "df_augmented = pd.concat([df, augmented_negative_df, augmented_positive_df], ignore_index=True)"
   ]
  },
  {
   "cell_type": "code",
   "execution_count": 10,
   "metadata": {},
   "outputs": [
    {
     "data": {
      "text/plain": [
       "<Axes: xlabel='sentiment'>"
      ]
     },
     "execution_count": 10,
     "metadata": {},
     "output_type": "execute_result"
    },
    {
     "data": {
      "image/png": "[encoded data removed]",
      "text/plain": [
       "<Figure size 640x480 with 1 Axes>"
      ]
     },
     "metadata": {},
     "output_type": "display_data"
    }
   ],
   "source": [
    "# Show changes in the frequency of each sentiment\n",
    "df_augmented['sentiment'].value_counts().plot(kind='bar')\n",
    "\n",
    "# A small difference in the number of samples for each class is acceptable"
   ]
  },
  {
   "cell_type": "code",
   "execution_count": 15,
   "metadata": {},
   "outputs": [],
   "source": [
    "from sklearn.model_selection import train_test_split\n",
    "\n",
    "# Split the data into 80% training and 20% testing\n",
    "X_train, X_test, y_train, y_test = train_test_split(df['text'], df['sentiment'], test_size=0.2, random_state=0)"
   ]
  },
  {
   "cell_type": "code",
   "execution_count": 16,
   "metadata": {},
   "outputs": [],
   "source": [
    "stopwords_al = [\"ë\", \"të\", \"i\", \"më\", \"që\", \"në\", \"një\", \"a\", \"për\", \"sh\", \"nga\", \"ka\", \"u\", \"është\", \"dhe\", \"shih\", \"nuk\", \"m\", \"diçka\", \"ose\", \"si\", \"shumë\", \"etj\", \"se\", \"pa\", \"sipas\", \"s\", \"t\", \"dikujt\", \"dikë\", \"mirë\", \"vet\", \"bëj\", \"ai\", \"vend\", \"prej\", \"ja\", \"duke\", \"tjetër\", \"kur\", \"ia\", \"ku\", \"ta\", \"keq\", \"dy\", \"bën\", \"bërë\", \"bëhet\", \"diçajë\", \"edhe\", \"madhë\", \"la\", \"sa\", \"gjatë\", \"zakonisht\", \"pas\", \"vetë\", \"mbi\", \"disa\", \"iu\", \"mos\", \"ç\", \"para\", \"dikush\", \"gjë\", \"bë\", \"pak\", \"tek\", \"farë\", \"bëri\", \"po\", \"bie\", \"k\", \"do\", \"gjithë\", \"vetë\", \"mund\", \"kam\", \"le\", \"jo\", \"bëje\", \"tij\", \"kanë\", \"ishte\", \"janë\", \"vjen\", \"atë\", \"këtë\", \"nëpër\", \"çdo\", \"na\", \"marrë\", \"merr\", \"mori\", \"rri\", \"deri\", \"b\", \"kishte\", \"mban\", \"përpara\", \"tyre\", \"marr\", \"gjitha\", \"as\", \"vetëm\", \"nën\", \"herë\", \"tjera\", \"tjerët\", \"drejt\", \"qenët\", \"ndonjë\", \"nëse\", \"jap\", \"merret\", \"rreth\", \"lloj\", \"dot\", \"saj\", \"nder\", \"ndërsa\", \"cila\", \"vetën\", \"ma\", \"ndaj\", \"mes\", \"ajo\", \"cilën\", \"por\", \"ndërmjet\", \"prapa\", \"mi\", \"tërë\", \"jam\", \"ashtu\", \"kësaj\", \"tillë\", \"behem\", \"cilat\", \"kjo\", \"menjëherë\", \"ça\", \"je\", \"aq\", \"aty\", \"pranë\", \"ato\", \"pasur\", \"qenë\", \"cilin\", \"tëper\", \"njëra\", \"tëj\", \"krejt\", \"kush\", \"bëjnë\", \"ti\", \"bënë\", \"midis\", \"cili\", \"endë\", \"këto\", \"kemi\", \"siç\", \"kryer\", \"cilit\", \"atij\", \"gjithnjë\", \"andej\", \"sipër\", \"sikur\", \"këtej\", \"cilës\", \"ky\", \"papritur\", \"ua\", \"kryesisht\", \"gjithçka\", \"pasi\", \"kryhet\", \"mjaft\", \"këtij\", \"përbashkët\", \"ata\", \"atje\", \"vazhdimisht\", \"kurrë\", \"tonë\", \"kështu\", \"unë\", \"sapo\", \"rrallë\", \"vetës\", \"ishin\", \"afërt\", \"tjetrën\", \"këtu\", \"çfarë\", \"to\", \"anës\", \"jemi\", \"asaj\", \"secila\", \"kundrejt\", \"këtyre\", \"pse\", \"tillë\", \"mua\", \"nëpërmjet\", \"cilet\", \"ndryshe\", \"kishin\", \"ju\", \"tani\", \"atyre\", \"diç\", \"ynë\", \"kudo\", \"sonë\", \"sepse\", \"cilave\", \"kem\", \"ty\", \"t'i\", \"nbsp\", \"tha\", \"re\", \"thë\"]"
   ]
  },
  {
   "cell_type": "code",
   "execution_count": 17,
   "metadata": {},
   "outputs": [],
   "source": [
    "import string\n",
    "\n",
    "def process_text(text):\n",
    "\ttext = text.lower()\n",
    "\tfor punctuation in string.punctuation:\n",
    "\t\ttext = text.replace(punctuation, '')\n",
    "\ttext = text.strip()\n",
    "\t\n",
    "\t# Remove non-ASCII characters (such as emojis)\n",
    "\ttext = text.encode('ascii', 'ignore').decode('ascii')\n",
    "\ttext = ' '.join([word for word in text.split() if word not in stopwords_al])\n",
    "\n",
    "\treturn text\n",
    "\n",
    "X_train = X_train.apply(process_text)\n",
    "X_test = X_test.apply(process_text)"
   ]
  },
  {
   "cell_type": "code",
   "execution_count": 19,
   "metadata": {},
   "outputs": [],
   "source": [
    "import pickle\n",
    "from sklearn.feature_extraction.text import CountVectorizer\n",
    "from sklearn.feature_extraction.text import TfidfTransformer\n",
    "\n",
    "# Convert to bag-of-words representation\n",
    "count_vect = CountVectorizer()\n",
    "X_train_bag_of_words = count_vect.fit_transform(X_train)\n",
    "X_test_bag_of_words = count_vect.transform(X_test)\n",
    "\n",
    "# Create folders if they don't exist\n",
    "import os\n",
    "os.makedirs('./models/sentiment', exist_ok=True)\n",
    "\n",
    "# Save the CountVectorizer object\n",
    "with open('./models/sentiment/count_vectorizer.pkl', 'wb') as f:\n",
    "    pickle.dump(count_vect, f)\n",
    "\n",
    "# Apply TF-IDF transformation\n",
    "tfidf_transformer = TfidfTransformer()\n",
    "X_train_tf = tfidf_transformer.fit_transform(X_train_bag_of_words)\n",
    "X_test_tf = tfidf_transformer.transform(X_test_bag_of_words)\n",
    "\n",
    "# Save the TfidfTransformer object\n",
    "with open('./models/sentiment/tfidf_transformer.pkl', 'wb') as f:\n",
    "    pickle.dump(tfidf_transformer, f)"
   ]
  },
  {
   "cell_type": "markdown",
   "metadata": {},
   "source": [
    "## Model Training"
   ]
  },
  {
   "cell_type": "code",
   "execution_count": 34,
   "metadata": {},
   "outputs": [
    {
     "name": "stdout",
     "output_type": "stream",
     "text": [
      "Best accuracy: 0.7068466375208136\n",
      "Best parameters: {'C': 10}\n"
     ]
    },
    {
     "name": "stderr",
     "output_type": "stream",
     "text": [
      "c:\\Users\\denis\\.virtualenvs\\albanian-NLP-fTaZVMI_\\lib\\site-packages\\sklearn\\linear_model\\_logistic.py:469: ConvergenceWarning: lbfgs failed to converge (status=1):\n",
      "STOP: TOTAL NO. of ITERATIONS REACHED LIMIT.\n",
      "\n",
      "Increase the number of iterations (max_iter) or scale the data as shown in:\n",
      "    https://scikit-learn.org/stable/modules/preprocessing.html\n",
      "Please also refer to the documentation for alternative solver options:\n",
      "    https://scikit-learn.org/stable/modules/linear_model.html#logistic-regression\n",
      "  n_iter_i = _check_optimize_result(\n"
     ]
    }
   ],
   "source": [
    "from sklearn.linear_model import LogisticRegression\n",
    "from sklearn.model_selection import GridSearchCV\n",
    "import numpy as np\n",
    "\n",
    "# Convert labels to a 1D array if they are not already\n",
    "y_train_1d = np.array(y_train)\n",
    "\n",
    "model = LogisticRegression()\n",
    "parameters = [{'C' : [0.001, 0.01, 0.1, 1, 10, 100, 1000,10000, 100000]}]\n",
    "grid_search = GridSearchCV(estimator=model, \n",
    "                           param_grid=parameters,\n",
    "                           scoring='accuracy',\n",
    "                           cv=4,\n",
    "                           n_jobs=-1)\n",
    "\n",
    "grid_search = grid_search.fit(X_train_tf, y_train_1d)\n",
    "\n",
    "best_accuracy = grid_search.best_score_\n",
    "best_parameters = grid_search.best_params_\n",
    "\n",
    "print('Best accuracy:', best_accuracy)\n",
    "print('Best parameters:', best_parameters)\n",
    "\n",
    "# Save the model\n",
    "with open('./models/sentiment/sentiment_model.pkl', 'wb') as f:\n",
    "\tpickle.dump(grid_search, f)"
   ]
  },
  {
   "cell_type": "markdown",
   "metadata": {},
   "source": [
    "## Model Evaluation"
   ]
  },
  {
   "cell_type": "code",
   "execution_count": 36,
   "metadata": {},
   "outputs": [
    {
     "name": "stdout",
     "output_type": "stream",
     "text": [
      "Accuracy:  0.7089294523926986\n",
      "Classification Report:\n",
      "               precision    recall  f1-score   support\n",
      "\n",
      "           0       0.71      0.82      0.76      1087\n",
      "           1       0.80      0.64      0.71       358\n",
      "           2       0.65      0.53      0.59       582\n",
      "\n",
      "    accuracy                           0.71      2027\n",
      "   macro avg       0.72      0.67      0.69      2027\n",
      "weighted avg       0.71      0.71      0.70      2027\n",
      "\n"
     ]
    }
   ],
   "source": [
    "import tensorflow as tf\n",
    "from sklearn.metrics import accuracy_score, classification_report\n",
    "\n",
    "# Assuming y_test is already in the correct format (integer labels)\n",
    "# If y_test is one-hot encoded, convert it back to integer labels\n",
    "if y_test.ndim > 1 and y_test.shape[1] > 1:\n",
    "    y_test = tf.argmax(y_test, axis=1).numpy()\n",
    "\n",
    "# Make predictions\n",
    "y_pred = grid_search.predict(X_test_tf)\n",
    "\n",
    "# accuracy score\n",
    "accuracy = accuracy_score(y_test, y_pred)\n",
    "print('Accuracy: ', accuracy)\n",
    "\n",
    "# classification report\n",
    "report = classification_report(y_test, y_pred)\n",
    "print('Classification Report:\\n', report)"
   ]
  },
  {
   "cell_type": "code",
   "execution_count": 44,
   "metadata": {},
   "outputs": [
    {
     "name": "stdout",
     "output_type": "stream",
     "text": [
      "Positive example: bravo lumt dite nje lajm mir me me reste te reja e me shum te sheruar\n",
      "Negative example: n prishtin n lagje jan infektuar myt me kto rrena dreqi hant\n",
      "Neutral example: duhet lokacionet ne google map me jau qit qe me rujt tyne marre eshte qe jane infektu eshte koha per me mujt me ndale shperthimin spo di naj ekip per emergjence covid 19 qe hi formoj une me vullnetaret e rastit\n",
      "Positive prediction: [1]\n",
      "Negative prediction: [2]\n",
      "Neutral prediction: [0]\n"
     ]
    }
   ],
   "source": [
    "# Load the model\n",
    "with open('./models/sentiment/sentiment_model.pkl', 'rb') as f:\n",
    "\tmodel = pickle.load(f)\n",
    "\n",
    "# Load the CountVectorizer object\n",
    "with open('./models/sentiment/count_vectorizer.pkl', 'rb') as f:\n",
    "\tcount_vect = pickle.load(f)\n",
    "\n",
    "# Load the TfidfTransformer object\n",
    "with open('./models/sentiment/tfidf_transformer.pkl', 'rb') as f:\n",
    "\ttfidf_transformer = pickle.load(f)\n",
    "\n",
    "# Process the input text\n",
    "def process_input(text):\n",
    "\ttext = process_text(text)\n",
    "\ttext = count_vect.transform([text])\n",
    "\ttext = tfidf_transformer.transform(text)\n",
    "\treturn text\n",
    "\n",
    "# Predict the sentiment of a new text\n",
    "def predict_sentiment(text):\n",
    "\ttext = process_input(text)\n",
    "\tprediction = model.predict(text)\n",
    "\treturn prediction\n",
    "\n",
    "# Test the model using a random text example from the test set with a positive, negative and neutral sentiment\n",
    "positive_example = X_test[y_test == 1].iloc[random.randint(0, len(X_test[y_test == 1])-1)]\n",
    "negative_example = X_test[y_test == 2].iloc[random.randint(0, len(X_test[y_test == 1])-1)]\n",
    "neutral_example = X_test[y_test == 0].iloc[random.randint(0, len(X_test[y_test == 1])-1)]\n",
    "\n",
    "print('Positive example:', positive_example)\n",
    "print('Negative example:', negative_example)\n",
    "print('Neutral example:', neutral_example)\n",
    "\n",
    "positive_prediction = predict_sentiment(positive_example)\n",
    "negative_prediction = predict_sentiment(negative_example)\n",
    "neutral_prediction = predict_sentiment(neutral_example)\n",
    "\n",
    "print('Positive prediction:', positive_prediction)\n",
    "print('Negative prediction:', negative_prediction)\n",
    "print('Neutral prediction:', neutral_prediction)"
   ]
  }
 ],
 "metadata": {
  "kernelspec": {
   "display_name": "albanian-NLP-fTaZVMI_",
   "language": "python",
   "name": "python3"
  },
  "language_info": {
   "codemirror_mode": {
    "name": "ipython",
    "version": 3
   },
   "file_extension": ".py",
   "mimetype": "text/x-python",
   "name": "python",
   "nbconvert_exporter": "python",
   "pygments_lexer": "ipython3",
   "version": "3.10.0"
  }
 },
 "nbformat": 4,
 "nbformat_minor": 2
}
